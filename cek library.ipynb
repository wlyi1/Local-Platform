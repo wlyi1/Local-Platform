{
 "cells": [
  {
   "cell_type": "code",
   "execution_count": 1,
   "id": "845a9550",
   "metadata": {},
   "outputs": [],
   "source": [
    "import pandas as pd\n",
    "import datetime\n",
    "from datetime import datetime\n",
    "import streamlit as st\n",
    "import streamlit.components.v1 as components\n",
    "import pyodbc\n",
    "from sqlalchemy import create_engine, event\n",
    "from sqlalchemy.engine import URL"
   ]
  },
  {
   "cell_type": "code",
   "execution_count": 41,
   "id": "1f13b363",
   "metadata": {},
   "outputs": [
    {
     "data": {
      "text/html": [
       "<div>\n",
       "<style scoped>\n",
       "    .dataframe tbody tr th:only-of-type {\n",
       "        vertical-align: middle;\n",
       "    }\n",
       "\n",
       "    .dataframe tbody tr th {\n",
       "        vertical-align: top;\n",
       "    }\n",
       "\n",
       "    .dataframe thead th {\n",
       "        text-align: right;\n",
       "    }\n",
       "</style>\n",
       "<table border=\"1\" class=\"dataframe\">\n",
       "  <thead>\n",
       "    <tr style=\"text-align: right;\">\n",
       "      <th></th>\n",
       "      <th>Station</th>\n",
       "      <th>pH</th>\n",
       "      <th>DO</th>\n",
       "      <th>Temp</th>\n",
       "      <th>NH4</th>\n",
       "      <th>NO3</th>\n",
       "      <th>COD</th>\n",
       "      <th>BOD</th>\n",
       "      <th>TSS</th>\n",
       "      <th>logDate</th>\n",
       "      <th>logTime</th>\n",
       "    </tr>\n",
       "  </thead>\n",
       "  <tbody>\n",
       "    <tr>\n",
       "      <th>0</th>\n",
       "      <td>12</td>\n",
       "      <td>7.65</td>\n",
       "      <td>4.21</td>\n",
       "      <td>30.3</td>\n",
       "      <td>0.14</td>\n",
       "      <td>31.4</td>\n",
       "      <td>16.52072</td>\n",
       "      <td>3.67270112037659</td>\n",
       "      <td>8.5758810043335</td>\n",
       "      <td>2000-01-01</td>\n",
       "      <td>02:00:00</td>\n",
       "    </tr>\n",
       "    <tr>\n",
       "      <th>1</th>\n",
       "      <td>15</td>\n",
       "      <td>5.29</td>\n",
       "      <td>6.26</td>\n",
       "      <td>25.6</td>\n",
       "      <td>0</td>\n",
       "      <td>0.11</td>\n",
       "      <td>0</td>\n",
       "      <td>0</td>\n",
       "      <td>0</td>\n",
       "      <td>2000-01-01</td>\n",
       "      <td>02:00:00</td>\n",
       "    </tr>\n",
       "    <tr>\n",
       "      <th>2</th>\n",
       "      <td>13</td>\n",
       "      <td>1.23</td>\n",
       "      <td>2.26</td>\n",
       "      <td>30</td>\n",
       "      <td>0</td>\n",
       "      <td>0.01</td>\n",
       "      <td>34.92597</td>\n",
       "      <td>8.29199028015137</td>\n",
       "      <td>9.41179084777832</td>\n",
       "      <td>2000-01-01</td>\n",
       "      <td>02:00:00</td>\n",
       "    </tr>\n",
       "    <tr>\n",
       "      <th>3</th>\n",
       "      <td>13</td>\n",
       "      <td>4.33</td>\n",
       "      <td>3.44</td>\n",
       "      <td>29.3</td>\n",
       "      <td>0</td>\n",
       "      <td>0.01</td>\n",
       "      <td>107.7774</td>\n",
       "      <td>25.5789699554443</td>\n",
       "      <td>186.069152832031</td>\n",
       "      <td>2000-01-01</td>\n",
       "      <td>03:00:00</td>\n",
       "    </tr>\n",
       "    <tr>\n",
       "      <th>4</th>\n",
       "      <td>12</td>\n",
       "      <td>7.64</td>\n",
       "      <td>4.56</td>\n",
       "      <td>30.2</td>\n",
       "      <td>0.17</td>\n",
       "      <td>39.8</td>\n",
       "      <td>14.7247</td>\n",
       "      <td>3.27343106269836</td>\n",
       "      <td>5.72495031356812</td>\n",
       "      <td>2000-01-01</td>\n",
       "      <td>03:00:00</td>\n",
       "    </tr>\n",
       "    <tr>\n",
       "      <th>...</th>\n",
       "      <td>...</td>\n",
       "      <td>...</td>\n",
       "      <td>...</td>\n",
       "      <td>...</td>\n",
       "      <td>...</td>\n",
       "      <td>...</td>\n",
       "      <td>...</td>\n",
       "      <td>...</td>\n",
       "      <td>...</td>\n",
       "      <td>...</td>\n",
       "      <td>...</td>\n",
       "    </tr>\n",
       "    <tr>\n",
       "      <th>179878</th>\n",
       "      <td>22</td>\n",
       "      <td>7.44</td>\n",
       "      <td>4.71</td>\n",
       "      <td>30.5</td>\n",
       "      <td>627</td>\n",
       "      <td>5.08</td>\n",
       "      <td>15.83</td>\n",
       "      <td>3.53</td>\n",
       "      <td>8.7</td>\n",
       "      <td>2022-09-30</td>\n",
       "      <td>13:00:00</td>\n",
       "    </tr>\n",
       "    <tr>\n",
       "      <th>179879</th>\n",
       "      <td>23</td>\n",
       "      <td>6.71</td>\n",
       "      <td>0.43</td>\n",
       "      <td>28.4</td>\n",
       "      <td>0.02</td>\n",
       "      <td>13.65</td>\n",
       "      <td>34.61</td>\n",
       "      <td>7.69</td>\n",
       "      <td>6.01</td>\n",
       "      <td>2022-09-30</td>\n",
       "      <td>13:00:00</td>\n",
       "    </tr>\n",
       "    <tr>\n",
       "      <th>179880</th>\n",
       "      <td>15</td>\n",
       "      <td>11.4</td>\n",
       "      <td>1.06</td>\n",
       "      <td>24.8</td>\n",
       "      <td>0</td>\n",
       "      <td>0.18</td>\n",
       "      <td>0</td>\n",
       "      <td>0</td>\n",
       "      <td>0</td>\n",
       "      <td>2022-09-30</td>\n",
       "      <td>13:00:00</td>\n",
       "    </tr>\n",
       "    <tr>\n",
       "      <th>179881</th>\n",
       "      <td>14</td>\n",
       "      <td>7.12</td>\n",
       "      <td>0.04</td>\n",
       "      <td>31</td>\n",
       "      <td>2940</td>\n",
       "      <td>337</td>\n",
       "      <td>16.86</td>\n",
       "      <td>4.07</td>\n",
       "      <td>50.1</td>\n",
       "      <td>2022-09-30</td>\n",
       "      <td>13:00:00</td>\n",
       "    </tr>\n",
       "    <tr>\n",
       "      <th>179882</th>\n",
       "      <td>11</td>\n",
       "      <td>7.23</td>\n",
       "      <td>0.03</td>\n",
       "      <td>28.6</td>\n",
       "      <td>0.23</td>\n",
       "      <td>662</td>\n",
       "      <td>53.52</td>\n",
       "      <td>13.08</td>\n",
       "      <td>40.33</td>\n",
       "      <td>2022-09-30</td>\n",
       "      <td>13:00:00</td>\n",
       "    </tr>\n",
       "  </tbody>\n",
       "</table>\n",
       "<p>179883 rows × 11 columns</p>\n",
       "</div>"
      ],
      "text/plain": [
       "       Station    pH    DO  Temp   NH4    NO3       COD               BOD  \\\n",
       "0           12  7.65  4.21  30.3  0.14   31.4  16.52072  3.67270112037659   \n",
       "1           15  5.29  6.26  25.6     0   0.11         0                 0   \n",
       "2           13  1.23  2.26    30     0   0.01  34.92597  8.29199028015137   \n",
       "3           13  4.33  3.44  29.3     0   0.01  107.7774  25.5789699554443   \n",
       "4           12  7.64  4.56  30.2  0.17   39.8   14.7247  3.27343106269836   \n",
       "...        ...   ...   ...   ...   ...    ...       ...               ...   \n",
       "179878      22  7.44  4.71  30.5   627   5.08     15.83              3.53   \n",
       "179879      23  6.71  0.43  28.4  0.02  13.65     34.61              7.69   \n",
       "179880      15  11.4  1.06  24.8     0   0.18         0                 0   \n",
       "179881      14  7.12  0.04    31  2940    337     16.86              4.07   \n",
       "179882      11  7.23  0.03  28.6  0.23    662     53.52             13.08   \n",
       "\n",
       "                     TSS     logDate   logTime  \n",
       "0        8.5758810043335  2000-01-01  02:00:00  \n",
       "1                      0  2000-01-01  02:00:00  \n",
       "2       9.41179084777832  2000-01-01  02:00:00  \n",
       "3       186.069152832031  2000-01-01  03:00:00  \n",
       "4       5.72495031356812  2000-01-01  03:00:00  \n",
       "...                  ...         ...       ...  \n",
       "179878               8.7  2022-09-30  13:00:00  \n",
       "179879              6.01  2022-09-30  13:00:00  \n",
       "179880                 0  2022-09-30  13:00:00  \n",
       "179881              50.1  2022-09-30  13:00:00  \n",
       "179882             40.33  2022-09-30  13:00:00  \n",
       "\n",
       "[179883 rows x 11 columns]"
      ]
     },
     "execution_count": 41,
     "metadata": {},
     "output_type": "execute_result"
    }
   ],
   "source": [
    "files_id = pd.read_csv('id_stasiun.csv')\n",
    "\n",
    "conn_str = 'DRIVER={SQL Server};server=DESKTOP-ECB4MMH\\SQLEXPRESS;Database=awrl;Trusted_Connection=yes;'\n",
    "con_url = URL.create('mssql+pyodbc', query={'odbc_connect': conn_str})\n",
    "engine = create_engine(con_url)\n",
    "\n",
    "id_list = files_id['CODE'].tolist()\n",
    "query_df = f\"\"\"select Station, pH, DO, Temp, NH4, NO3, COD, BOD, TSS, logDate,logTime from data order by logDate,logTime\"\"\"\n",
    "df = pd.read_sql(query_df, engine)\n",
    "\n",
    "df['logDate'] = pd.to_datetime(df['logDate']).dt.date\n",
    "df['logTime'] = pd.to_datetime(df['logTime']).dt.floor('H').dt.time\n",
    "df"
   ]
  },
  {
   "cell_type": "code",
   "execution_count": null,
   "id": "23a6d1a2",
   "metadata": {},
   "outputs": [],
   "source": []
  },
  {
   "cell_type": "code",
   "execution_count": 20,
   "id": "9c872818",
   "metadata": {},
   "outputs": [
    {
     "data": {
      "text/plain": [
       "'pH'"
      ]
     },
     "execution_count": 20,
     "metadata": {},
     "output_type": "execute_result"
    }
   ],
   "source": [
    "col = data.columns\n",
    "col[1]"
   ]
  },
  {
   "cell_type": "code",
   "execution_count": 39,
   "id": "d3ba56d5",
   "metadata": {},
   "outputs": [
    {
     "data": {
      "text/plain": [
       "dtype('int32')"
      ]
     },
     "execution_count": 39,
     "metadata": {},
     "output_type": "execute_result"
    }
   ],
   "source": [
    "df.dtypes"
   ]
  },
  {
   "cell_type": "code",
   "execution_count": 35,
   "id": "5b486445",
   "metadata": {},
   "outputs": [
    {
     "data": {
      "text/plain": [
       "6.29"
      ]
     },
     "execution_count": 35,
     "metadata": {},
     "output_type": "execute_result"
    }
   ],
   "source": [
    "float(df['pH'][1]) + 1"
   ]
  },
  {
   "cell_type": "code",
   "execution_count": 38,
   "id": "6cc140f6",
   "metadata": {
    "scrolled": true
   },
   "outputs": [
    {
     "name": "stdout",
     "output_type": "stream",
     "text": [
      "Station   <class 'numpy.int64'>\n",
      "pH   <class 'numpy.float64'>\n",
      "DO   <class 'numpy.float64'>\n",
      "Temp   <class 'numpy.float64'>\n",
      "NH4   <class 'numpy.float64'>\n",
      "NO3   <class 'numpy.float64'>\n",
      "COD   <class 'numpy.float64'>\n",
      "BOD   <class 'numpy.float64'>\n",
      "TSS   <class 'numpy.float64'>\n"
     ]
    }
   ],
   "source": [
    "for i in col:\n",
    "    print(i, ' ', type(data[i][1]))"
   ]
  },
  {
   "cell_type": "code",
   "execution_count": 15,
   "id": "c84b2141",
   "metadata": {},
   "outputs": [],
   "source": [
    "data = df[['Station', 'pH', 'DO', 'Temp', 'NH4', 'NO3', 'COD', 'BOD', 'TSS']]"
   ]
  },
  {
   "cell_type": "code",
   "execution_count": 18,
   "id": "bf698f52",
   "metadata": {},
   "outputs": [],
   "source": [
    "data = data.apply(pd.to_numeric)"
   ]
  },
  {
   "cell_type": "code",
   "execution_count": 10,
   "id": "98ae6204",
   "metadata": {},
   "outputs": [],
   "source": [
    "df['Station'] = pd.to_numeric(df['Station'])\n"
   ]
  },
  {
   "cell_type": "code",
   "execution_count": null,
   "id": "04ca2475",
   "metadata": {},
   "outputs": [],
   "source": [
    "id_st = [x for x in range(11,22)]\n",
    "df = df[~df['Station'].isin(id_st)]"
   ]
  },
  {
   "cell_type": "code",
   "execution_count": 23,
   "id": "a9a80686",
   "metadata": {},
   "outputs": [],
   "source": [
    "df41 = data.loc[df['Station'] == '11']"
   ]
  },
  {
   "cell_type": "code",
   "execution_count": 24,
   "id": "9b14f8c4",
   "metadata": {},
   "outputs": [],
   "source": [
    "df41.to_csv('df41.csv', index=False)"
   ]
  },
  {
   "cell_type": "code",
   "execution_count": 36,
   "id": "4e4ce35b",
   "metadata": {},
   "outputs": [
    {
     "data": {
      "text/html": [
       "<div>\n",
       "<style scoped>\n",
       "    .dataframe tbody tr th:only-of-type {\n",
       "        vertical-align: middle;\n",
       "    }\n",
       "\n",
       "    .dataframe tbody tr th {\n",
       "        vertical-align: top;\n",
       "    }\n",
       "\n",
       "    .dataframe thead th {\n",
       "        text-align: right;\n",
       "    }\n",
       "</style>\n",
       "<table border=\"1\" class=\"dataframe\">\n",
       "  <thead>\n",
       "    <tr style=\"text-align: right;\">\n",
       "      <th></th>\n",
       "      <th>Station</th>\n",
       "      <th>pH</th>\n",
       "      <th>DO</th>\n",
       "      <th>Temp</th>\n",
       "      <th>NH4</th>\n",
       "      <th>NO3</th>\n",
       "      <th>COD</th>\n",
       "      <th>BOD</th>\n",
       "      <th>TSS</th>\n",
       "    </tr>\n",
       "  </thead>\n",
       "  <tbody>\n",
       "    <tr>\n",
       "      <th>count</th>\n",
       "      <td>0.0</td>\n",
       "      <td>0.0</td>\n",
       "      <td>0.0</td>\n",
       "      <td>0.0</td>\n",
       "      <td>0.0</td>\n",
       "      <td>0.0</td>\n",
       "      <td>0.0</td>\n",
       "      <td>0.0</td>\n",
       "      <td>0.0</td>\n",
       "    </tr>\n",
       "    <tr>\n",
       "      <th>mean</th>\n",
       "      <td>NaN</td>\n",
       "      <td>NaN</td>\n",
       "      <td>NaN</td>\n",
       "      <td>NaN</td>\n",
       "      <td>NaN</td>\n",
       "      <td>NaN</td>\n",
       "      <td>NaN</td>\n",
       "      <td>NaN</td>\n",
       "      <td>NaN</td>\n",
       "    </tr>\n",
       "    <tr>\n",
       "      <th>std</th>\n",
       "      <td>NaN</td>\n",
       "      <td>NaN</td>\n",
       "      <td>NaN</td>\n",
       "      <td>NaN</td>\n",
       "      <td>NaN</td>\n",
       "      <td>NaN</td>\n",
       "      <td>NaN</td>\n",
       "      <td>NaN</td>\n",
       "      <td>NaN</td>\n",
       "    </tr>\n",
       "    <tr>\n",
       "      <th>min</th>\n",
       "      <td>NaN</td>\n",
       "      <td>NaN</td>\n",
       "      <td>NaN</td>\n",
       "      <td>NaN</td>\n",
       "      <td>NaN</td>\n",
       "      <td>NaN</td>\n",
       "      <td>NaN</td>\n",
       "      <td>NaN</td>\n",
       "      <td>NaN</td>\n",
       "    </tr>\n",
       "    <tr>\n",
       "      <th>25%</th>\n",
       "      <td>NaN</td>\n",
       "      <td>NaN</td>\n",
       "      <td>NaN</td>\n",
       "      <td>NaN</td>\n",
       "      <td>NaN</td>\n",
       "      <td>NaN</td>\n",
       "      <td>NaN</td>\n",
       "      <td>NaN</td>\n",
       "      <td>NaN</td>\n",
       "    </tr>\n",
       "    <tr>\n",
       "      <th>50%</th>\n",
       "      <td>NaN</td>\n",
       "      <td>NaN</td>\n",
       "      <td>NaN</td>\n",
       "      <td>NaN</td>\n",
       "      <td>NaN</td>\n",
       "      <td>NaN</td>\n",
       "      <td>NaN</td>\n",
       "      <td>NaN</td>\n",
       "      <td>NaN</td>\n",
       "    </tr>\n",
       "    <tr>\n",
       "      <th>75%</th>\n",
       "      <td>NaN</td>\n",
       "      <td>NaN</td>\n",
       "      <td>NaN</td>\n",
       "      <td>NaN</td>\n",
       "      <td>NaN</td>\n",
       "      <td>NaN</td>\n",
       "      <td>NaN</td>\n",
       "      <td>NaN</td>\n",
       "      <td>NaN</td>\n",
       "    </tr>\n",
       "    <tr>\n",
       "      <th>max</th>\n",
       "      <td>NaN</td>\n",
       "      <td>NaN</td>\n",
       "      <td>NaN</td>\n",
       "      <td>NaN</td>\n",
       "      <td>NaN</td>\n",
       "      <td>NaN</td>\n",
       "      <td>NaN</td>\n",
       "      <td>NaN</td>\n",
       "      <td>NaN</td>\n",
       "    </tr>\n",
       "  </tbody>\n",
       "</table>\n",
       "</div>"
      ],
      "text/plain": [
       "       Station   pH   DO  Temp  NH4  NO3  COD  BOD  TSS\n",
       "count      0.0  0.0  0.0   0.0  0.0  0.0  0.0  0.0  0.0\n",
       "mean       NaN  NaN  NaN   NaN  NaN  NaN  NaN  NaN  NaN\n",
       "std        NaN  NaN  NaN   NaN  NaN  NaN  NaN  NaN  NaN\n",
       "min        NaN  NaN  NaN   NaN  NaN  NaN  NaN  NaN  NaN\n",
       "25%        NaN  NaN  NaN   NaN  NaN  NaN  NaN  NaN  NaN\n",
       "50%        NaN  NaN  NaN   NaN  NaN  NaN  NaN  NaN  NaN\n",
       "75%        NaN  NaN  NaN   NaN  NaN  NaN  NaN  NaN  NaN\n",
       "max        NaN  NaN  NaN   NaN  NaN  NaN  NaN  NaN  NaN"
      ]
     },
     "execution_count": 36,
     "metadata": {},
     "output_type": "execute_result"
    }
   ],
   "source": [
    "df41.describe()"
   ]
  },
  {
   "cell_type": "code",
   "execution_count": null,
   "id": "10978ad6",
   "metadata": {},
   "outputs": [],
   "source": [
    "from pandas_profiling import ProfileReport"
   ]
  },
  {
   "cell_type": "code",
   "execution_count": null,
   "id": "012ccf47",
   "metadata": {},
   "outputs": [],
   "source": [
    "prof = ProfileReport(df41)"
   ]
  },
  {
   "cell_type": "code",
   "execution_count": null,
   "id": "4d89c7ea",
   "metadata": {
    "scrolled": true
   },
   "outputs": [],
   "source": [
    "prof"
   ]
  },
  {
   "cell_type": "code",
   "execution_count": 37,
   "id": "7c090b8d",
   "metadata": {},
   "outputs": [],
   "source": [
    "df = df['Station'].astype(int)"
   ]
  },
  {
   "cell_type": "code",
   "execution_count": 43,
   "id": "daed6c47",
   "metadata": {},
   "outputs": [
    {
     "data": {
      "text/plain": [
       "Station      int64\n",
       "pH         float64\n",
       "DO         float64\n",
       "Temp       float64\n",
       "NH4        float64\n",
       "NO3        float64\n",
       "COD        float64\n",
       "BOD        float64\n",
       "TSS        float64\n",
       "dtype: object"
      ]
     },
     "execution_count": 43,
     "metadata": {},
     "output_type": "execute_result"
    }
   ],
   "source": [
    "data.dtypes"
   ]
  },
  {
   "cell_type": "code",
   "execution_count": null,
   "id": "e1a0e72e",
   "metadata": {},
   "outputs": [],
   "source": []
  }
 ],
 "metadata": {
  "kernelspec": {
   "display_name": "Python 3 (ipykernel)",
   "language": "python",
   "name": "python3"
  },
  "language_info": {
   "codemirror_mode": {
    "name": "ipython",
    "version": 3
   },
   "file_extension": ".py",
   "mimetype": "text/x-python",
   "name": "python",
   "nbconvert_exporter": "python",
   "pygments_lexer": "ipython3",
   "version": "3.10.4"
  }
 },
 "nbformat": 4,
 "nbformat_minor": 5
}
